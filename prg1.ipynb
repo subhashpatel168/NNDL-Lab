{
 "cells": [
  {
   "cell_type": "code",
   "execution_count": 1,
   "metadata": {},
   "outputs": [],
   "source": [
    "import numpy as np"
   ]
  },
  {
   "cell_type": "code",
   "execution_count": 2,
   "metadata": {},
   "outputs": [],
   "source": [
    "class NeuralNetwork:\n",
    "    def __init__(self, input_size, hidden_size, output_size):\n",
    "        self.input_size = input_size\n",
    "        self.hidden_size = hidden_size\n",
    "        self.output_size = output_size\n",
    "\n",
    "        # Initialize parameters\n",
    "        self.W1 = np.random.randn(hidden_size, input_size) * 0.01\n",
    "        self.b1 = np.zeros((hidden_size, 1))\n",
    "        self.W2 = np.random.randn(output_size, hidden_size) * 0.01\n",
    "        self.b2 = np.zeros((output_size, 1))\n",
    "\n",
    "    def forward_propagation(self, X):\n",
    "        # Forward pass\n",
    "        self.Z1 = np.dot(self.W1, X) + self.b1\n",
    "        self.A1 = np.tanh(self.Z1)\n",
    "        self.Z2 = np.dot(self.W2, self.A1) + self.b2\n",
    "        self.A2 = self.sigmoid(self.Z2)\n",
    "        return self.A2\n",
    "\n",
    "    def backward_propagation(self, X, Y):\n",
    "        m = X.shape[1]  # Number of samples\n",
    "\n",
    "        # Backward pass\n",
    "        dZ2 = self.A2 - Y\n",
    "        dW2 = (1 / m) * np.dot(dZ2, self.A1.T)\n",
    "        db2 = (1 / m) * np.sum(dZ2, axis=1, keepdims=True)\n",
    "        dZ1 = np.dot(self.W2.T, dZ2) * (1 - np.power(self.A1, 2))  # derivative of tanh\n",
    "        dW1 = (1 / m) * np.dot(dZ1, X.T)\n",
    "        db1 = (1 / m) * np.sum(dZ1, axis=1, keepdims=True)\n",
    "\n",
    "        # Update parameters\n",
    "        self.W2 -= dW2\n",
    "        self.b2 -= db2\n",
    "        self.W1 -= dW1\n",
    "        self.b1 -= db1\n",
    "\n",
    "    def train(self, X, Y, num_epochs, learning_rate):\n",
    "        for epoch in range(num_epochs):\n",
    "            # Forward propagation\n",
    "            predictions = self.forward_propagation(X)\n",
    "\n",
    "            # Compute cross-entropy loss\n",
    "            loss = self.cross_entropy_loss(Y, predictions)\n",
    "\n",
    "            # Backward propagation\n",
    "            self.backward_propagation(X, Y)\n",
    "\n",
    "            # Print the loss every 100 epochs\n",
    "            if epoch % 100 == 0:\n",
    "                print(f'Epoch {epoch}, Loss: {loss}')\n",
    "\n",
    "    def sigmoid(self, Z):\n",
    "        return 1 / (1 + np.exp(-Z))\n",
    "\n",
    "    def cross_entropy_loss(self, Y, A):\n",
    "        m = Y.shape[1]  # Number of samples\n",
    "        return -(1 / m) * np.sum(Y * np.log(A) + (1 - Y) * np.log(1 - A))"
   ]
  },
  {
   "cell_type": "code",
   "execution_count": 4,
   "metadata": {},
   "outputs": [
    {
     "name": "stdout",
     "output_type": "stream",
     "text": [
      "Epoch 0, Loss: 0.6931471971574189\n",
      "Epoch 100, Loss: 0.6931471932456986\n",
      "Epoch 200, Loss: 0.6931471929456996\n",
      "Epoch 300, Loss: 0.6931471926549293\n",
      "Epoch 400, Loss: 0.6931471923730043\n",
      "Epoch 500, Loss: 0.6931471920995611\n",
      "Epoch 600, Loss: 0.693147191834255\n",
      "Epoch 700, Loss: 0.6931471915767584\n",
      "Epoch 800, Loss: 0.6931471913267604\n",
      "Epoch 900, Loss: 0.693147191083965\n"
     ]
    }
   ],
   "source": [
    "input_size = 2\n",
    "hidden_size = 4\n",
    "output_size = 1\n",
    "\n",
    "X = np.array([[0, 0], [0, 1], [1, 0], [1, 1]]).T\n",
    "Y = np.array([[0, 1, 1, 0]])  # Output\n",
    "\n",
    "model=NeuralNetwork(input_size, hidden_size, output_size)\n",
    "model.train(X,Y,num_epochs=1000,learning_rate=0.01)"
   ]
  },
  {
   "cell_type": "code",
   "execution_count": null,
   "metadata": {},
   "outputs": [],
   "source": []
  }
 ],
 "metadata": {
  "kernelspec": {
   "display_name": "Python 3",
   "language": "python",
   "name": "python3"
  },
  "language_info": {
   "codemirror_mode": {
    "name": "ipython",
    "version": 3
   },
   "file_extension": ".py",
   "mimetype": "text/x-python",
   "name": "python",
   "nbconvert_exporter": "python",
   "pygments_lexer": "ipython3",
   "version": "3.8.0"
  }
 },
 "nbformat": 4,
 "nbformat_minor": 2
}
