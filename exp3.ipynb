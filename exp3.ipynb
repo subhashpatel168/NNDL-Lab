{
 "cells": [
  {
   "cell_type": "code",
   "execution_count": 1,
   "metadata": {},
   "outputs": [
    {
     "name": "stdout",
     "output_type": "stream",
     "text": [
      "Downloading data from https://storage.googleapis.com/tensorflow/tf-keras-datasets/mnist.npz\n",
      "11490434/11490434 [==============================] - 9s 1us/step\n",
      "Epoch 1/5\n",
      "844/844 [==============================] - 4s 4ms/step - loss: 0.2953 - accuracy: 0.9153 - val_loss: 0.1292 - val_accuracy: 0.9645\n",
      "Epoch 2/5\n",
      "844/844 [==============================] - 3s 4ms/step - loss: 0.1191 - accuracy: 0.9642 - val_loss: 0.0954 - val_accuracy: 0.9718\n",
      "Epoch 3/5\n",
      "844/844 [==============================] - 4s 4ms/step - loss: 0.0799 - accuracy: 0.9763 - val_loss: 0.0811 - val_accuracy: 0.9768\n",
      "Epoch 4/5\n",
      "844/844 [==============================] - 3s 3ms/step - loss: 0.0609 - accuracy: 0.9813 - val_loss: 0.0836 - val_accuracy: 0.9750\n",
      "Epoch 5/5\n",
      "844/844 [==============================] - 2s 3ms/step - loss: 0.0465 - accuracy: 0.9851 - val_loss: 0.0737 - val_accuracy: 0.9812\n",
      "313/313 [==============================] - 1s 2ms/step - loss: 0.0766 - accuracy: 0.9758\n",
      "Test accuracy: 0.9757999777793884\n",
      "1/1 [==============================] - 0s 84ms/step\n"
     ]
    },
    {
     "data": {
      "image/png": "[encoded data removed]",
      "text/plain": [
       "<Figure size 1000x400 with 5 Axes>"
      ]
     },
     "metadata": {},
     "output_type": "display_data"
    }
   ],
   "source": [
    "import tensorflow as tf\n",
    "from tensorflow.keras import layers, models\n",
    "from tensorflow.keras.datasets import mnist\n",
    "from tensorflow.keras.utils import to_categorical\n",
    "import matplotlib.pyplot as plt\n",
    "(train_images, train_labels), (test_images, test_labels) = mnist.load_data()\n",
    "train_images = train_images.reshape((60000, 28, 28, 1)).astype('float32') / 255\n",
    "test_images = test_images.reshape((10000, 28, 28, 1)).astype('float32') / 255\n",
    "train_labels = to_categorical(train_labels)\n",
    "test_labels = to_categorical(test_labels)\n",
    "class NeuralNetwork:\n",
    "    def __init__(self, input_shape, num_classes):\n",
    "        self.model = self.build_model(input_shape, num_classes)\n",
    "    def build_model(self, input_shape, num_classes):\n",
    "        model = models.Sequential()\n",
    "        model.add(layers.Flatten(input_shape=input_shape))\n",
    "        model.add(layers.Dense(128, activation='relu'))\n",
    "        model.add(layers.Dense(64, activation='relu'))\n",
    "        model.add(layers.Dense(num_classes, activation='softmax'))\n",
    "        model.compile(optimizer='adam', loss='categorical_crossentropy', metrics=['accuracy'])\n",
    "        return model\n",
    "\n",
    "    def train(self, train_images, train_labels, epochs=5, batch_size=64, validation_split=0.1):\n",
    "        history = self.model.fit(train_images, train_labels, epochs=epochs, batch_size=batch_size, validation_split=validation_split)\n",
    "        return history\n",
    "    def evaluate(self, test_images, test_labels):\n",
    "        return self.model.evaluate(test_images, test_labels)\n",
    "    def predict(self, images):\n",
    "        return self.model.predict(images)\n",
    "input_shape = (28, 28, 1)\n",
    "num_classes = 10\n",
    "nn = NeuralNetwork(input_shape, num_classes)\n",
    "history = nn.train(train_images, train_labels, epochs=5)\n",
    "test_loss, test_acc = nn.evaluate(test_images, test_labels)\n",
    "print(f'Test accuracy: {test_acc}')\n",
    "predictions = nn.predict(test_images[:5])\n",
    "plt.figure(figsize=(10, 4))\n",
    "for i in range(5):\n",
    "    plt.subplot(1, 5, i + 1)\n",
    "    plt.imshow(test_images[i, :, :, 0], cmap='gray')\n",
    "    plt.title(f'Predicted: {tf.argmax(predictions[i])}')\n",
    "    plt.axis('off')\n",
    "plt.show()\n"
   ]
  }
 ],
 "metadata": {
  "kernelspec": {
   "display_name": "Python 3",
   "language": "python",
   "name": "python3"
  },
  "language_info": {
   "codemirror_mode": {
    "name": "ipython",
    "version": 3
   },
   "file_extension": ".py",
   "mimetype": "text/x-python",
   "name": "python",
   "nbconvert_exporter": "python",
   "pygments_lexer": "ipython3",
   "version": "3.11.1"
  }
 },
 "nbformat": 4,
 "nbformat_minor": 2
}
